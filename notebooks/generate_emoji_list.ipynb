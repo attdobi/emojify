{
 "cells": [
  {
   "cell_type": "markdown",
   "metadata": {},
   "source": [
    "# Generate emoji_list"
   ]
  },
  {
   "cell_type": "code",
   "execution_count": 1,
   "metadata": {
    "collapsed": true
   },
   "outputs": [],
   "source": [
    "import re\n",
    "import numpy as np\n",
    "import pandas as pd"
   ]
  },
  {
   "cell_type": "markdown",
   "metadata": {},
   "source": [
    "# Load data"
   ]
  },
  {
   "cell_type": "code",
   "execution_count": 32,
   "metadata": {
    "collapsed": true
   },
   "outputs": [],
   "source": [
    "# Has annotations. Hard to import from URL. No skin tone.\n",
    "#EMOJI_URL = 'https://www.unicode.org/emoji/charts/emoji-list.html'\n",
    "# Full list, only name. No skin tone modifiers.\n",
    "EMOJI_URL = 'https://www.unicode.org/emoji/charts/full-emoji-list.html'\n",
    "# The skin tone modifiers.\n",
    "SKIN_URL = 'https://www.unicode.org/emoji/charts/full-emoji-modifiers.html'\n"
   ]
  },
  {
   "cell_type": "code",
   "execution_count": 152,
   "metadata": {
    "collapsed": false
   },
   "outputs": [],
   "source": [
    "# Might have to lay with the header.\n",
    "emoji_list = pd.read_html(EMOJI_URL, encoding='utf8', header=2)\n",
    "\n",
    "# Load in skin and other modifier data\n",
    "emoji_list_mod = pd.read_html(SKIN_URL, encoding='utf8', header=2)\n"
   ]
  },
  {
   "cell_type": "code",
   "execution_count": null,
   "metadata": {
    "collapsed": true
   },
   "outputs": [],
   "source": []
  },
  {
   "cell_type": "code",
   "execution_count": 158,
   "metadata": {
    "collapsed": false
   },
   "outputs": [],
   "source": [
    "# Merge dataframe\n",
    "df = emoji_list[0].append(emoji_list_mod[0])\n",
    "df = df.rename(columns={u'№': 'index'})"
   ]
  },
  {
   "cell_type": "code",
   "execution_count": null,
   "metadata": {
    "collapsed": true
   },
   "outputs": [],
   "source": []
  },
  {
   "cell_type": "code",
   "execution_count": 159,
   "metadata": {
    "collapsed": false
   },
   "outputs": [],
   "source": [
    "def only_keep_int(text):\n",
    "    ''' Return int contained in a string or NaN'''\n",
    "    ints_found = re.findall('\\d+', text)\n",
    "    if not isinstance(text, str):\n",
    "        return np.nan\n",
    "    \n",
    "    if ints_found:\n",
    "        return int(ints_found[0])\n",
    "    else:\n",
    "        return np.nan\n",
    "\n",
    "# Convert index to int or nan\n",
    "df['index'] = df['index'].apply(only_keep_int)\n",
    "# Drop nan in the index. Then any other place\n",
    "df = df.dropna(subset=['index']).dropna(axis=1)\n"
   ]
  },
  {
   "cell_type": "code",
   "execution_count": 163,
   "metadata": {
    "collapsed": false
   },
   "outputs": [
    {
     "data": {
      "text/html": [
       "<div>\n",
       "<style scoped>\n",
       "    .dataframe tbody tr th:only-of-type {\n",
       "        vertical-align: middle;\n",
       "    }\n",
       "\n",
       "    .dataframe tbody tr th {\n",
       "        vertical-align: top;\n",
       "    }\n",
       "\n",
       "    .dataframe thead th {\n",
       "        text-align: right;\n",
       "    }\n",
       "</style>\n",
       "<table border=\"1\" class=\"dataframe\">\n",
       "  <thead>\n",
       "    <tr style=\"text-align: right;\">\n",
       "      <th></th>\n",
       "      <th>index</th>\n",
       "      <th>Code</th>\n",
       "      <th>Unicode</th>\n",
       "      <th>Name</th>\n",
       "      <th>Annotations</th>\n",
       "    </tr>\n",
       "  </thead>\n",
       "  <tbody>\n",
       "    <tr>\n",
       "      <th>0</th>\n",
       "      <td>1.0</td>\n",
       "      <td>U+1F600</td>\n",
       "      <td>😀</td>\n",
       "      <td>grinning face</td>\n",
       "      <td></td>\n",
       "    </tr>\n",
       "    <tr>\n",
       "      <th>1</th>\n",
       "      <td>2.0</td>\n",
       "      <td>U+1F603</td>\n",
       "      <td>😃</td>\n",
       "      <td>grinning face with big eyes</td>\n",
       "      <td></td>\n",
       "    </tr>\n",
       "    <tr>\n",
       "      <th>2</th>\n",
       "      <td>3.0</td>\n",
       "      <td>U+1F604</td>\n",
       "      <td>😄</td>\n",
       "      <td>grinning face with smiling eyes</td>\n",
       "      <td></td>\n",
       "    </tr>\n",
       "    <tr>\n",
       "      <th>3</th>\n",
       "      <td>4.0</td>\n",
       "      <td>U+1F601</td>\n",
       "      <td>😁</td>\n",
       "      <td>beaming face with smiling eyes</td>\n",
       "      <td></td>\n",
       "    </tr>\n",
       "    <tr>\n",
       "      <th>4</th>\n",
       "      <td>5.0</td>\n",
       "      <td>U+1F606</td>\n",
       "      <td>😆</td>\n",
       "      <td>grinning squinting face</td>\n",
       "      <td></td>\n",
       "    </tr>\n",
       "  </tbody>\n",
       "</table>\n",
       "</div>"
      ],
      "text/plain": [
       "   index     Code Unicode                             Name Annotations\n",
       "0    1.0  U+1F600      😀                    grinning face            \n",
       "1    2.0  U+1F603      😃      grinning face with big eyes            \n",
       "2    3.0  U+1F604      😄  grinning face with smiling eyes            \n",
       "3    4.0  U+1F601      😁   beaming face with smiling eyes            \n",
       "4    5.0  U+1F606      😆          grinning squinting face            "
      ]
     },
     "execution_count": 163,
     "metadata": {},
     "output_type": "execute_result"
    }
   ],
   "source": [
    "df = df.rename(columns={'Browser': 'Unicode', \n",
    "                                'CLDR Short Name': 'Name'})\n",
    "# Ignore annotations for now. Can ge\n",
    "df['Annotations'] = ''\n",
    "df = df.reset_index(drop=True)\n",
    "df.head()"
   ]
  },
  {
   "cell_type": "markdown",
   "metadata": {},
   "source": [
    "# Write file"
   ]
  },
  {
   "cell_type": "code",
   "execution_count": 164,
   "metadata": {
    "collapsed": false
   },
   "outputs": [],
   "source": [
    "df.to_csv('emoji_list.csv', encoding='utf8')"
   ]
  },
  {
   "cell_type": "code",
   "execution_count": null,
   "metadata": {
    "collapsed": true
   },
   "outputs": [],
   "source": []
  }
 ],
 "metadata": {
  "kernelspec": {
   "display_name": "Python 2",
   "language": "python",
   "name": "python2"
  },
  "language_info": {
   "codemirror_mode": {
    "name": "ipython",
    "version": 2
   },
   "file_extension": ".py",
   "mimetype": "text/x-python",
   "name": "python",
   "nbconvert_exporter": "python",
   "pygments_lexer": "ipython2",
   "version": "2.7.9"
  }
 },
 "nbformat": 4,
 "nbformat_minor": 0
}
